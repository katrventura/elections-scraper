{
 "cells": [
  {
   "cell_type": "markdown",
   "metadata": {},
   "source": [
    "## 2024 Elections Around the World\n",
    "\n",
    "by Katrina Ventura"
   ]
  },
  {
   "cell_type": "markdown",
   "metadata": {},
   "source": [
    "2024 has been dubbed the \"elections year\". Voters from at least 64 countries will be heading to the polls to decide their new leaders. Some of the countries include the influential democracies such as the United States, European Union, Russia, and India. The leaders that will come out of this year's elections will determine the kind of policies that will shape the world for the next 3 to 5 years. \n",
    "\n",
    "For my second Data Studio project, the goal is to create a data visualization that will auto-update to reflect the results of each election that will be held.  The graphic will be a diverging bar plot where each row shows the month, and each entry is a country. The bar plot will measure the voter turnout, the negative and positive values will be determined by the political ideology of the elected leader. Data will be collected from the International Foundation for Electoral Systems' Election Guide for 2024\n",
    "https://www.electionguide.org/electionresults/?years%5B%5D=2024\n",
    "\n",
    "Will the world vote left or right?\n",
    "\n",
    "\n"
   ]
  },
  {
   "cell_type": "markdown",
   "metadata": {},
   "source": [
    "### Step 1: Access IFES Election Website using Playwright"
   ]
  },
  {
   "cell_type": "code",
   "execution_count": 1,
   "metadata": {},
   "outputs": [],
   "source": [
    "from playwright.async_api import async_playwright\n",
    "\n",
    "playwright = await async_playwright().start()\n",
    "browser = await playwright.chromium.launch(headless=False)\n"
   ]
  },
  {
   "cell_type": "markdown",
   "metadata": {},
   "source": []
  },
  {
   "cell_type": "code",
   "execution_count": 2,
   "metadata": {},
   "outputs": [
    {
     "data": {
      "text/plain": [
       "<Response url='https://www.electionguide.org/' request=<Request url='https://www.electionguide.org/' method='GET'>>"
      ]
     },
     "execution_count": 2,
     "metadata": {},
     "output_type": "execute_result"
    }
   ],
   "source": [
    "page = await browser.new_page()\n",
    "await page.goto(\"https://www.electionguide.org\")"
   ]
  },
  {
   "cell_type": "code",
   "execution_count": 3,
   "metadata": {},
   "outputs": [],
   "source": [
    "# Click the \"Elections\" dropdown element\n",
    "await page.click('a.nav-link.dropdown-toggle[href=\"#\"][id=\"navbarDropdown\"]')\n"
   ]
  },
  {
   "cell_type": "code",
   "execution_count": 4,
   "metadata": {},
   "outputs": [],
   "source": [
    "# Click on the \"Advanced Search\" link within the dropdown menu\n",
    "await page.click('a.dropdown-item[href=\"/election-search/\"]')"
   ]
  },
  {
   "cell_type": "code",
   "execution_count": 5,
   "metadata": {},
   "outputs": [],
   "source": [
    "await page.select_option('select[name=\"years[]\"]', '2024')\n",
    "await page.click('button[type=\"submit\"].btn.btn-primary')"
   ]
  },
  {
   "cell_type": "code",
   "execution_count": 6,
   "metadata": {},
   "outputs": [],
   "source": [
    "# Click on the sorting button to sort the date column in ascending order\n",
    "await page.click('th.sorting[aria-label=\"Date: activate to sort column ascending\"]')\n"
   ]
  },
  {
   "cell_type": "code",
   "execution_count": 7,
   "metadata": {},
   "outputs": [
    {
     "data": {
      "text/plain": [
       "['100']"
      ]
     },
     "execution_count": 7,
     "metadata": {},
     "output_type": "execute_result"
    }
   ],
   "source": [
    " # Click on the drop-down button\n",
    "await page.click(\"select[name='electionsTable_length']\")\n",
    "    \n",
    "# Choose the \"100\" option\n",
    "await page.select_option(\"select[name='electionsTable_length']\", \"100\")\n",
    "    "
   ]
  },
  {
   "cell_type": "markdown",
   "metadata": {},
   "source": [
    "### Step 2: Scrape Election Guide Results using BeautifulSoup"
   ]
  },
  {
   "cell_type": "code",
   "execution_count": 8,
   "metadata": {},
   "outputs": [],
   "source": [
    "import requests\n",
    "\n",
    "from bs4 import BeautifulSoup\n",
    "html = await page.content()\n",
    "doc = BeautifulSoup(html)\n",
    "\n",
    "import pandas as pd\n"
   ]
  },
  {
   "cell_type": "code",
   "execution_count": 9,
   "metadata": {},
   "outputs": [],
   "source": [
    "#Select Elections table\n",
    "table_body = doc.find('table', {'id': 'electionsTable'}).find('tbody')\n"
   ]
  },
  {
   "cell_type": "code",
   "execution_count": 10,
   "metadata": {},
   "outputs": [
    {
     "data": {
      "text/html": [
       "<div>\n",
       "<style scoped>\n",
       "    .dataframe tbody tr th:only-of-type {\n",
       "        vertical-align: middle;\n",
       "    }\n",
       "\n",
       "    .dataframe tbody tr th {\n",
       "        vertical-align: top;\n",
       "    }\n",
       "\n",
       "    .dataframe thead th {\n",
       "        text-align: right;\n",
       "    }\n",
       "</style>\n",
       "<table border=\"1\" class=\"dataframe\">\n",
       "  <thead>\n",
       "    <tr style=\"text-align: right;\">\n",
       "      <th></th>\n",
       "      <th>Country</th>\n",
       "      <th>Election for</th>\n",
       "      <th>Date</th>\n",
       "      <th>Status</th>\n",
       "      <th>Registered</th>\n",
       "      <th>Actual Votes</th>\n",
       "      <th>Participation</th>\n",
       "    </tr>\n",
       "  </thead>\n",
       "  <tbody>\n",
       "    <tr>\n",
       "      <th>0</th>\n",
       "      <td>Bangladesh</td>\n",
       "      <td>Bangladeshi National Parliament</td>\n",
       "      <td>2024-01-07 (d)</td>\n",
       "      <td>Held</td>\n",
       "      <td>119,691,633</td>\n",
       "      <td>n/a</td>\n",
       "      <td></td>\n",
       "    </tr>\n",
       "    <tr>\n",
       "      <th>1</th>\n",
       "      <td>Bhutan</td>\n",
       "      <td>Bhutanese National Assembly</td>\n",
       "      <td>2024-01-09 (d)</td>\n",
       "      <td>Held</td>\n",
       "      <td>498,135</td>\n",
       "      <td>326,775 (c)</td>\n",
       "      <td>65.6\\n                                        %</td>\n",
       "    </tr>\n",
       "    <tr>\n",
       "      <th>2</th>\n",
       "      <td>Sint Maarten</td>\n",
       "      <td>Sint Maarten Parliament</td>\n",
       "      <td>2024-01-11 (d)</td>\n",
       "      <td>Held</td>\n",
       "      <td>22,553</td>\n",
       "      <td>14,443  (v)</td>\n",
       "      <td>65.5\\n                                        %</td>\n",
       "    </tr>\n",
       "    <tr>\n",
       "      <th>3</th>\n",
       "      <td>Taiwan</td>\n",
       "      <td>Taiwanese Legislative Yuan</td>\n",
       "      <td>2024-01-13 (d)</td>\n",
       "      <td>Held</td>\n",
       "      <td>19,566,007</td>\n",
       "      <td>13,776,736  (v)</td>\n",
       "      <td>71.8\\n                                        %</td>\n",
       "    </tr>\n",
       "    <tr>\n",
       "      <th>4</th>\n",
       "      <td>Taiwan</td>\n",
       "      <td>Taiwanese Presidency</td>\n",
       "      <td>2024-01-13 (d)</td>\n",
       "      <td>Held</td>\n",
       "      <td>19,548,531</td>\n",
       "      <td>13,947,506  (v)</td>\n",
       "      <td>71.9\\n                                        %</td>\n",
       "    </tr>\n",
       "    <tr>\n",
       "      <th>...</th>\n",
       "      <td>...</td>\n",
       "      <td>...</td>\n",
       "      <td>...</td>\n",
       "      <td>...</td>\n",
       "      <td>...</td>\n",
       "      <td>...</td>\n",
       "      <td>...</td>\n",
       "    </tr>\n",
       "    <tr>\n",
       "      <th>95</th>\n",
       "      <td>Senegal</td>\n",
       "      <td>Senegalese Presidency</td>\n",
       "      <td>2024-12-15 (d)</td>\n",
       "      <td>Postponed</td>\n",
       "      <td>None</td>\n",
       "      <td>n/a</td>\n",
       "      <td></td>\n",
       "    </tr>\n",
       "    <tr>\n",
       "      <th>96</th>\n",
       "      <td>Uzbekistan</td>\n",
       "      <td>Uzbekistani Legislative Chamber</td>\n",
       "      <td>2024-12-31 (t)</td>\n",
       "      <td>Date not confirmed</td>\n",
       "      <td>None</td>\n",
       "      <td>n/a</td>\n",
       "      <td></td>\n",
       "    </tr>\n",
       "    <tr>\n",
       "      <th>97</th>\n",
       "      <td>South Sudan</td>\n",
       "      <td>South Sudanese Transitional National Legislati...</td>\n",
       "      <td>2024-12-31 (t)</td>\n",
       "      <td>Date not confirmed</td>\n",
       "      <td>None</td>\n",
       "      <td>n/a</td>\n",
       "      <td></td>\n",
       "    </tr>\n",
       "    <tr>\n",
       "      <th>98</th>\n",
       "      <td>Algeria</td>\n",
       "      <td>Algerian Presidency</td>\n",
       "      <td>2024-12-31 (t)</td>\n",
       "      <td>Date not confirmed</td>\n",
       "      <td>None</td>\n",
       "      <td>n/a</td>\n",
       "      <td></td>\n",
       "    </tr>\n",
       "    <tr>\n",
       "      <th>99</th>\n",
       "      <td>South Sudan</td>\n",
       "      <td>South Sudanese Presidency</td>\n",
       "      <td>2024-12-31 (t)</td>\n",
       "      <td>Date not confirmed</td>\n",
       "      <td>None</td>\n",
       "      <td>n/a</td>\n",
       "      <td></td>\n",
       "    </tr>\n",
       "  </tbody>\n",
       "</table>\n",
       "<p>100 rows × 7 columns</p>\n",
       "</div>"
      ],
      "text/plain": [
       "         Country                                       Election for  \\\n",
       "0     Bangladesh                    Bangladeshi National Parliament   \n",
       "1         Bhutan                        Bhutanese National Assembly   \n",
       "2   Sint Maarten                            Sint Maarten Parliament   \n",
       "3         Taiwan                         Taiwanese Legislative Yuan   \n",
       "4         Taiwan                               Taiwanese Presidency   \n",
       "..           ...                                                ...   \n",
       "95       Senegal                              Senegalese Presidency   \n",
       "96    Uzbekistan                    Uzbekistani Legislative Chamber   \n",
       "97   South Sudan  South Sudanese Transitional National Legislati...   \n",
       "98       Algeria                                Algerian Presidency   \n",
       "99   South Sudan                          South Sudanese Presidency   \n",
       "\n",
       "              Date              Status   Registered     Actual Votes  \\\n",
       "0   2024-01-07 (d)                Held  119,691,633              n/a   \n",
       "1   2024-01-09 (d)                Held      498,135      326,775 (c)   \n",
       "2   2024-01-11 (d)                Held       22,553      14,443  (v)   \n",
       "3   2024-01-13 (d)                Held   19,566,007  13,776,736  (v)   \n",
       "4   2024-01-13 (d)                Held   19,548,531  13,947,506  (v)   \n",
       "..             ...                 ...          ...              ...   \n",
       "95  2024-12-15 (d)           Postponed         None              n/a   \n",
       "96  2024-12-31 (t)  Date not confirmed         None              n/a   \n",
       "97  2024-12-31 (t)  Date not confirmed         None              n/a   \n",
       "98  2024-12-31 (t)  Date not confirmed         None              n/a   \n",
       "99  2024-12-31 (t)  Date not confirmed         None              n/a   \n",
       "\n",
       "                                      Participation  \n",
       "0                                                    \n",
       "1   65.6\\n                                        %  \n",
       "2   65.5\\n                                        %  \n",
       "3   71.8\\n                                        %  \n",
       "4   71.9\\n                                        %  \n",
       "..                                              ...  \n",
       "95                                                   \n",
       "96                                                   \n",
       "97                                                   \n",
       "98                                                   \n",
       "99                                                   \n",
       "\n",
       "[100 rows x 7 columns]"
      ]
     },
     "execution_count": 10,
     "metadata": {},
     "output_type": "execute_result"
    }
   ],
   "source": [
    "# Iterate over each row in the table body skipping the first column [0] which contains an image of country flags\n",
    "data = {\n",
    "    'Country': [],\n",
    "    'Election for': [],\n",
    "    'Date': [],\n",
    "    'Status': [],\n",
    "    'Registered': [],\n",
    "    'Actual Votes': [],\n",
    "    'Participation': []\n",
    "}\n",
    "\n",
    "# Iterate over each row in the table body\n",
    "for row in table_body.find_all('tr'):\n",
    "    cells = row.find_all('td')\n",
    "    \n",
    "    data['Country'].append(cells[1].text.strip())\n",
    "    data['Election for'].append(cells[2].text.strip())\n",
    "    data['Date'].append(cells[3].text.strip())\n",
    "    data['Status'].append(cells[4].text.strip())\n",
    "    data['Registered'].append(cells[5].text.strip())\n",
    "    data['Actual Votes'].append(cells[6].text.strip())\n",
    "    data['Participation'].append(cells[7].text.strip())\n",
    "\n",
    "# Create a DataFrame from the collected data\n",
    "df = pd.DataFrame(data)\n",
    "df"
   ]
  },
  {
   "cell_type": "code",
   "execution_count": 11,
   "metadata": {},
   "outputs": [],
   "source": [
    "csv_filepath = 'data.csv'\n",
    "df.to_csv(csv_filepath, index=False)\n"
   ]
  }
 ],
 "metadata": {
  "kernelspec": {
   "display_name": "Python 3",
   "language": "python",
   "name": "python3"
  },
  "language_info": {
   "codemirror_mode": {
    "name": "ipython",
    "version": 3
   },
   "file_extension": ".py",
   "mimetype": "text/x-python",
   "name": "python",
   "nbconvert_exporter": "python",
   "pygments_lexer": "ipython3",
   "version": "3.11.6"
  }
 },
 "nbformat": 4,
 "nbformat_minor": 2
}
